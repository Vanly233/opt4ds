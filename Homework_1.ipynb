{
  "nbformat": 4,
  "nbformat_minor": 0,
  "metadata": {
    "colab": {
      "name": "Homework_1.ipynb",
      "provenance": [],
      "collapsed_sections": []
    },
    "kernelspec": {
      "name": "python3",
      "display_name": "Python 3"
    }
  },
  "cells": [
    {
      "cell_type": "markdown",
      "metadata": {
        "id": "dGrCd2KuyEWc",
        "colab_type": "text"
      },
      "source": [
        "<a rel=\"license\" href=\"http://creativecommons.org/licenses/by/4.0/\"><img alt=\"Creative Commons License\" style=\"border-width:0\" src=\"https://i.creativecommons.org/l/by/4.0/88x31.png\" /></a><br /><span xmlns:dct=\"http://purl.org/dc/terms/\" property=\"dct:title\"><b>Solution Homework 1,</b></span> by <a xmlns:cc=\"http://creativecommons.org/ns#\" href=\"http://mate.unipv.it/gualandi\" property=\"cc:attributionName\" rel=\"cc:attributionURL\">Stefano Gualandi</a> is licensed under a <a rel=\"license\" href=\"http://creativecommons.org/licenses/by/4.0/\">Creative Commons Attribution 4.0 International License</a>.<br />Based on a work at <a xmlns:dct=\"http://purl.org/dc/terms/\" href=\"https://github.com/mathcoding/opt4ds\" rel=\"dct:source\">https://github.com/mathcoding/opt4ds</a>."
      ]
    },
    {
      "cell_type": "markdown",
      "metadata": {
        "id": "-r0YiemKLz5h",
        "colab_type": "text"
      },
      "source": [
        "# Solution Homework 1\n",
        "In this notebook, we propose a possible solution for the first exercise proposed during the lectures."
      ]
    },
    {
      "cell_type": "markdown",
      "metadata": {
        "id": "sl4ZJgXvLqNI",
        "colab_type": "text"
      },
      "source": [
        "### Software Requirements\n",
        "Be sure of running the following snippet in order to install in the notebook all the software needed to execute this notebook."
      ]
    },
    {
      "cell_type": "code",
      "metadata": {
        "id": "O-lvYSleBsqr",
        "colab_type": "code",
        "colab": {}
      },
      "source": [
        "import shutil\n",
        "import sys\n",
        "import os.path\n",
        "\n",
        "if not shutil.which(\"pyomo\"):\n",
        "    !pip install -q pyomo\n",
        "    assert(shutil.which(\"pyomo\"))\n",
        "\n",
        "if not (shutil.which(\"glpk\") or os.path.isfile(\"glpk\")):\n",
        "    if \"google.colab\" in sys.modules:\n",
        "        !apt-get install -y -qq glpk-utils\n",
        "    else:\n",
        "        try:\n",
        "            !conda install -c conda-forge glpk \n",
        "        except:\n",
        "            pass"
      ],
      "execution_count": 0,
      "outputs": []
    },
    {
      "cell_type": "markdown",
      "metadata": {
        "id": "37m4NBkeJ34Z",
        "colab_type": "text"
      },
      "source": [
        "## Solution Script\n",
        "We start the model definition by declaring the input data of our problem.\n",
        "Since it is a toy problem, we can use just a few *pairs* to store the data. Ideally, the input data should be stored in a CSV, Excel, or JSON file."
      ]
    },
    {
      "cell_type": "code",
      "metadata": {
        "id": "Qp_Nj3aDEEid",
        "colab_type": "code",
        "colab": {}
      },
      "source": [
        "# Input Data\n",
        "rB, rC = 200, 140    # Production rate tons/hour\n",
        "pB, pC = 25, 30      # Profits euro/tons\n",
        "dB, dC = 6000, 4000  # Max demands in tons\n",
        "T = 40               # Maximum working hours per week (for both)"
      ],
      "execution_count": 0,
      "outputs": []
    },
    {
      "cell_type": "markdown",
      "metadata": {
        "id": "6HtvO10BGxDM",
        "colab_type": "text"
      },
      "source": [
        "First, we define an empty **ConcreteModel** object, which will contain all the elements of our model."
      ]
    },
    {
      "cell_type": "code",
      "metadata": {
        "id": "s7ycMREhGwRm",
        "colab_type": "code",
        "colab": {}
      },
      "source": [
        "from pyomo.environ import *\n",
        "model = ConcreteModel()"
      ],
      "execution_count": 0,
      "outputs": []
    },
    {
      "cell_type": "markdown",
      "metadata": {
        "id": "yA2zIIRGGjkB",
        "colab_type": "text"
      },
      "source": [
        "For using the object **Variable**, you can look at the example in the [official documentation](https://pyomo.readthedocs.io/en/stable/pyomo_modeling_components/Variables.html)"
      ]
    },
    {
      "cell_type": "code",
      "metadata": {
        "id": "ug5kvS3bGiPX",
        "colab_type": "code",
        "colab": {}
      },
      "source": [
        "# declare decision variables\n",
        "model.xB = Var(domain=NonNegativeReals, bounds= (0.0, dB), initialize=0.0)\n",
        "model.xC = Var(domain=NonNegativeReals, bounds= (0.0, dC), initialize=0.0)"
      ],
      "execution_count": 0,
      "outputs": []
    },
    {
      "cell_type": "markdown",
      "metadata": {
        "id": "AIUNkwa8HHQW",
        "colab_type": "text"
      },
      "source": [
        "At this point, we define the **Objective** function, using the variables just defined."
      ]
    },
    {
      "cell_type": "code",
      "metadata": {
        "id": "Y1sxdJLlHKEY",
        "colab_type": "code",
        "colab": {}
      },
      "source": [
        "# declare objective\n",
        "model.cost = Objective(\n",
        "    expr = pB * model.xB + pC * model.xC,\n",
        "    sense = maximize)"
      ],
      "execution_count": 0,
      "outputs": []
    },
    {
      "cell_type": "markdown",
      "metadata": {
        "id": "LFPIugAKHWc9",
        "colab_type": "text"
      },
      "source": [
        "Finally, we add the only **Constraint** left, on the total number of weekly working hours."
      ]
    },
    {
      "cell_type": "code",
      "metadata": {
        "id": "MCnhgwSjBjrm",
        "colab_type": "code",
        "colab": {}
      },
      "source": [
        "# declare constraints\n",
        "model.cnstr1 = Constraint(expr = model.xB/rB + model.xC/rC <= T)"
      ],
      "execution_count": 0,
      "outputs": []
    },
    {
      "cell_type": "markdown",
      "metadata": {
        "id": "XnNeVgxIHclh",
        "colab_type": "text"
      },
      "source": [
        "In order to solve the model, we need to construct the linear model, by bidding the formal parameters to the actual values, and, only then, we can invoke an **LP solver** to actually solve the model. By using the option `tee = True`, we get in a cell all the solver output:"
      ]
    },
    {
      "cell_type": "code",
      "metadata": {
        "id": "Svx7gY-yHtNk",
        "colab_type": "code",
        "colab": {}
      },
      "source": [
        "# Using the GLPK open source MILP solver:\n",
        "sol = SolverFactory('glpk').solve(model, tee=True)"
      ],
      "execution_count": 0,
      "outputs": []
    },
    {
      "cell_type": "markdown",
      "metadata": {
        "id": "TQY6uTXqIEhn",
        "colab_type": "text"
      },
      "source": [
        "Before getting the solution, we should check if the solver was able to compute any feasible solution. \n",
        "\n",
        "**REMARK:** An LP problem can be:\n",
        "\n",
        "1. **Feasible**: Hence, a finite optimal solution exists.\n",
        "2. **Unfeasible**: the feasible region defined by the linear constraints is empty.\n",
        "3. **Unbounded**: there exists an unbounded direction of grow for the variables, and not finite optimal solution exists.\n",
        "\n",
        "For this reason, it is good practice [to query the solver for its status](https://pyomo.readthedocs.io/en/stable/working_models.html#accessing-solver-status) before querying the model for the actual solution values."
      ]
    },
    {
      "cell_type": "code",
      "metadata": {
        "id": "adVAWH1VKSrj",
        "colab_type": "code",
        "colab": {}
      },
      "source": [
        "print(sol.solver.status)"
      ],
      "execution_count": 0,
      "outputs": []
    },
    {
      "cell_type": "markdown",
      "metadata": {
        "id": "t1X53hvEH00D",
        "colab_type": "text"
      },
      "source": [
        "At this point, if we need to check the optimal slution values found by the solver, we can \"invoke\" the variables and the objective function, as follows."
      ]
    },
    {
      "cell_type": "code",
      "metadata": {
        "id": "0GksXPeMBk3v",
        "colab_type": "code",
        "colab": {}
      },
      "source": [
        "print(\"x1 = {}, x2 = {}\".format(model.xB(), model.xC()))"
      ],
      "execution_count": 0,
      "outputs": []
    },
    {
      "cell_type": "code",
      "metadata": {
        "id": "0j8wmjqyBm0M",
        "colab_type": "code",
        "colab": {}
      },
      "source": [
        "print(\"f(x1,x2) = {}\", model.cost())"
      ],
      "execution_count": 0,
      "outputs": []
    },
    {
      "cell_type": "markdown",
      "metadata": {
        "id": "fWDPW5Awy_Y7",
        "colab_type": "text"
      },
      "source": [
        "## Main Pyomo Classes\n",
        "You should study the following Pyomo documentation for the following three classes:\n",
        "\n",
        "1. [Var](https://pyomo.readthedocs.io/en/stable/library_reference/aml/index.html#pyomo.environ.Var)\n",
        "2. [Objective](https://pyomo.readthedocs.io/en/stable/library_reference/aml/index.html#pyomo.environ.Objective)\n",
        "3. [Constraint](https://pyomo.readthedocs.io/en/stable/library_reference/aml/index.html#pyomo.environ.Constraint)\n",
        "\n",
        "The other main elements are described in the [Pyomo Algebraic Modeling Lanaguge](https://pyomo.readthedocs.io/en/stable/library_reference/aml/index.html) documentation.\n"
      ]
    },
    {
      "cell_type": "markdown",
      "metadata": {
        "colab_type": "text",
        "id": "-DT_t-2qrFW-"
      },
      "source": [
        "## Graphical Solution\n",
        "For problems with just two variables, we can always solve the problem graphically, and to get some intuition of what will happen when the decision variables are vectors of $\\mathbb{R}^n$.\n",
        "\n",
        "In the following snippets, we first plot the half-space delimited by the bound constraints, and the production time constraints.\n",
        "\n",
        "Then, we plot the gradients and a line parallel to the objective function.\n",
        "\n",
        "Finally, we plot for two corners of the polyhedron associated to the feasible set of points, the directions perpedincular to the active constraints: note that in the optimal solution $x^* = (6000, 1400)$, the gradient of the objective function is contained in the cone define by the two directions perpendicular to the active constraints."
      ]
    },
    {
      "cell_type": "code",
      "metadata": {
        "id": "mIjm27CBMcvO",
        "colab_type": "code",
        "colab": {}
      },
      "source": [
        "from pylab import *\n",
        "figure(figsize=(6, 6))\n",
        "subplot(111, aspect='equal')\n",
        "M = 8000 # Max bound for plotting\n",
        "axis([0, M, 0, M])\n",
        "xlabel('$x_B$')\n",
        "ylabel('$x_C$')\n",
        "\n",
        "# PLOT OF ACTIVE CONSTRAINTS\n",
        "#----------------------------\n",
        "# Demand for bands\n",
        "plot([dB,dB],[0, M],'b',lw=2)\n",
        "fill_between([dB, M], [M, M], color='b', alpha=0.25)\n",
        "# Demand for coils\n",
        "plot([0,M],[dC,dC],'c',lw=2)\n",
        "fill_between([0, M], [dC, dC], [M, M], color='c', alpha=0.25)\n",
        "# First constraint\n",
        "x = array([0, M])\n",
        "y = rC*(T - x/rB)\n",
        "plot(x, y, 'g', lw=2)\n",
        "fill_between([0, M], [5600, 0], [M, M], color='g', alpha=0.25)\n",
        "\n",
        "# OBJECTIVE FUNCTION\n",
        "#--------------------\n",
        "annotate('', xy=(2500/2, 3000/2), xytext=(0, 0),\n",
        "          arrowprops=dict(shrink=.1, width=2, headwidth=10, color='r'))\n",
        "\n",
        "x = array([0, M])\n",
        "for p in linspace(0, 160000.0, 20):\n",
        "    y = 1/pC*(p-pB*x)\n",
        "    plot(x, y, 'y--', color='red', alpha=0.3)\n",
        "\n",
        "# DIRECTION OF ACTIVE CONSTRAINTS AND GRADIENTS\n",
        "#-----------------------------------------------\n",
        "# Cone for the optimal solution x* = (6000, 1400)\n",
        "plot(model.xB(), model.xC(), 'r.', ms=20)\n",
        "annotate('', xy=(model.xB()+2500/2, model.xC()+3000/2), xytext=(model.xB(), model.xC()),\n",
        "          arrowprops=dict(shrink=.1, width=2, headwidth=10, color='r'))\n",
        "\n",
        "annotate('', xy=(model.xB()+700, model.xC()+1000), xytext=(model.xB(), model.xC()),\n",
        "          arrowprops=dict(shrink=.1, width=2, headwidth=10, color='g'))\n",
        "\n",
        "annotate('', xy=(model.xB()+1000, model.xC()), xytext=(model.xB(), model.xC()),\n",
        "          arrowprops=dict(shrink=.1, width=2, headwidth=10, color='b'))\n",
        "\n",
        "# Cone for the second vertex\n",
        "plot(rB*(40 - 4000/rC), 4000, 'r.', ms=20)\n",
        "annotate('', xy=(rB*(40 - 4000/rC)+2500/2, 4000+3000/2), xytext=(rB*(40 - 4000/rC), 4000),\n",
        "          arrowprops=dict(shrink=.1, width=2, headwidth=10, color='r'))\n",
        "\n",
        "annotate('', xy=(rB*(40 - 4000/rC)+700, 4000+1000), xytext=(rB*(40 - 4000/rC), 4000),\n",
        "          arrowprops=dict(shrink=.1, width=2, headwidth=10, color='g'))\n",
        "\n",
        "annotate('', xy=(rB*(40 - 4000/rC), 4000+1000), xytext=(rB*(40 - 4000/rC), 4000),\n",
        "          arrowprops=dict(shrink=.1, width=2, headwidth=10, color='c'))"
      ],
      "execution_count": 0,
      "outputs": []
    }
  ]
}